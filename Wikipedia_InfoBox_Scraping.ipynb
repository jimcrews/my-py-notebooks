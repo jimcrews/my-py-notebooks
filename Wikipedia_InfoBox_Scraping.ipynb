{
 "cells": [
  {
   "cell_type": "markdown",
   "metadata": {},
   "source": [
    "## Toy Story Dataset Creation (w/ Python BeautifulSoup)\n",
    "\n"
   ]
  },
  {
   "cell_type": "markdown",
   "metadata": {},
   "source": [
    "1. Get the Info Box, and store in Python Dictionary"
   ]
  },
  {
   "cell_type": "markdown",
   "metadata": {},
   "source": [
    "<img src=\"https://res.cloudinary.com/digjdosfu/image/upload/v1602022323/JupyterNotebookImages/screenshot_hwgixj.png\" width=\"250\" height=\"250\" />"
   ]
  },
  {
   "cell_type": "code",
   "execution_count": 5,
   "metadata": {},
   "outputs": [],
   "source": [
    "from bs4 import BeautifulSoup as bs\n",
    "import requests"
   ]
  },
  {
   "cell_type": "code",
   "execution_count": 11,
   "metadata": {},
   "outputs": [],
   "source": [
    "r = requests.get('https://en.wikipedia.org/wiki/Toy_Story_3')\n",
    "\n",
    "# convert to a bs obj\n",
    "soup = bs(r.content)\n",
    "\n",
    "# print html\n",
    "contents = soup.prettify()\n",
    "#print(contents)\n",
    "\n",
    "infobox = soup.find(class_='infobox vevent')\n",
    "# print(infobox.prettify())\n",
    "\n",
    "inforows = infobox.find_all(\"tr\")\n",
    "#for row in inforows:\n",
    "#    print(row.prettify())\n"
   ]
  },
  {
   "cell_type": "code",
   "execution_count": 20,
   "metadata": {},
   "outputs": [
    {
     "data": {
      "text/plain": [
       "{'title': 'Toy Story 3',\n",
       " 'Directed by': 'Lee Unkrich',\n",
       " 'Produced by': 'Darla K. Anderson',\n",
       " 'Screenplay by': 'Michael Arndt',\n",
       " 'Story by': ['John Lasseter', 'Andrew Stanton', 'Lee Unkrich'],\n",
       " 'Starring': ['Tom Hanks',\n",
       "  'Tim Allen',\n",
       "  'Joan Cusack',\n",
       "  'Don Rickles',\n",
       "  'Wallace Shawn',\n",
       "  'John Ratzenberger',\n",
       "  'Estelle Harris',\n",
       "  'Blake Clark',\n",
       "  'Jeff Pidgeon',\n",
       "  'Ned Beatty',\n",
       "  'Michael Keaton',\n",
       "  'Jodi Benson',\n",
       "  'John Morris'],\n",
       " 'Music by': 'Randy Newman',\n",
       " 'Cinematography': ['Jeremy Lasky', 'Kim White'],\n",
       " 'Edited by': 'Ken Schretzmann',\n",
       " 'Production company': ['Walt Disney Pictures', 'Pixar Animation Studios'],\n",
       " 'Distributed by': 'Walt Disney Studios Motion Pictures',\n",
       " 'Release date': ['June 12, 2010 ( 2010-06-12 ) ( Taormina Film Fest )',\n",
       "  'June 18, 2010 ( 2010-06-18 ) (United States)'],\n",
       " 'Running time': '103 minutes [1]',\n",
       " 'Country': 'United States',\n",
       " 'Language': 'English',\n",
       " 'Budget': '$200 million [1]',\n",
       " 'Box office': '$1.067 billion [1]'}"
      ]
     },
     "execution_count": 20,
     "metadata": {},
     "output_type": "execute_result"
    }
   ],
   "source": [
    "## function to return python list for html li items\n",
    "def Get_Content_Value(row_data):\n",
    "    if row_data.find('li'):\n",
    "        return [li.get_text(' ', strip=True).replace('\\xa0', ' ') for li in row_data.find_all('li')]\n",
    "    else:\n",
    "        return row_data.get_text(' ', strip=True).replace('\\xa0', ' ')\n",
    "\n",
    "movie_info = {}\n",
    "\n",
    "for index, row in enumerate(inforows):\n",
    "    if index == 0:\n",
    "        movie_info['title'] = row.find('th').get_text(' ', strip=True)\n",
    "    elif index == 1:\n",
    "        continue # image\n",
    "    else:\n",
    "        content_key = row.find('th').get_text(' ', strip=True)\n",
    "        content_value = Get_Content_Value(row.find('td'))\n",
    "        movie_info[content_key] = content_value\n",
    "\n",
    "        \n",
    "\n",
    "        \n",
    "\n",
    "movie_info"
   ]
  },
  {
   "cell_type": "code",
   "execution_count": null,
   "metadata": {},
   "outputs": [],
   "source": []
  }
 ],
 "metadata": {
  "kernelspec": {
   "display_name": "datascience",
   "language": "python",
   "name": "datascience"
  },
  "language_info": {
   "codemirror_mode": {
    "name": "ipython",
    "version": 3
   },
   "file_extension": ".py",
   "mimetype": "text/x-python",
   "name": "python",
   "nbconvert_exporter": "python",
   "pygments_lexer": "ipython3",
   "version": "3.8.5"
  }
 },
 "nbformat": 4,
 "nbformat_minor": 4
}
