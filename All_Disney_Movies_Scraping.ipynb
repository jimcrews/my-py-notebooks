{
 "cells": [
  {
   "cell_type": "markdown",
   "metadata": {},
   "source": [
    "## Disney Movies Dataset Creation (w/ Python BeautifulSoup)"
   ]
  },
  {
   "cell_type": "code",
   "execution_count": null,
   "metadata": {},
   "outputs": [],
   "source": []
  },
  {
   "cell_type": "markdown",
   "metadata": {},
   "source": [
    "<img src=\"https://res.cloudinary.com/digjdosfu/image/upload/v1602022323/JupyterNotebookImages/screenshot_hwgixj.png\" width=\"250\" height=\"250\" />"
   ]
  },
  {
   "cell_type": "code",
   "execution_count": 1,
   "metadata": {},
   "outputs": [],
   "source": [
    "from bs4 import BeautifulSoup as bs\n",
    "import requests"
   ]
  },
  {
   "cell_type": "code",
   "execution_count": 2,
   "metadata": {},
   "outputs": [],
   "source": [
    "r = requests.get('https://en.wikipedia.org/wiki/List_of_Walt_Disney_Pictures_films')\n",
    "\n",
    "# convert to a bs obj\n",
    "soup = bs(r.content)\n",
    "\n",
    "# print html\n",
    "contents = soup.prettify()\n",
    "#print(contents)\n"
   ]
  },
  {
   "cell_type": "code",
   "execution_count": 3,
   "metadata": {},
   "outputs": [
    {
     "name": "stdout",
     "output_type": "stream",
     "text": [
      "<i><a href=\"/wiki/Academy_Award_Review_of_Walt_Disney_Cartoons\" title=\"Academy Award Review of Walt Disney Cartoons\">Academy Award Review of Walt Disney Cartoons</a></i>\n",
      "\n",
      "\n",
      "/wiki/Academy_Award_Review_of_Walt_Disney_Cartoons\n",
      "Academy Award Review of Walt Disney Cartoons\n"
     ]
    }
   ],
   "source": [
    "movies = soup.select('.wikitable.sortable i')\n",
    "print(movies[0])\n",
    "print('\\n')\n",
    "print(movies[0].a['href'])\n",
    "print(movies[0].a['title'])\n"
   ]
  },
  {
   "cell_type": "code",
   "execution_count": 4,
   "metadata": {},
   "outputs": [],
   "source": [
    "## function to return python list for html li items\n",
    "def Get_Content_Value(row_data):\n",
    "    if row_data.find('li'):\n",
    "        return [li.get_text(' ', strip=True).replace('\\xa0', ' ') for li in row_data.find_all('li')]\n",
    "    else:\n",
    "        return row_data.get_text(' ', strip=True).replace('\\xa0', ' ')\n",
    "\n",
    "\n",
    "def Get_Info_Box(url):\n",
    "    movie_info = {}\n",
    "    r = requests.get(url)\n",
    "    soup = bs(r.content)\n",
    "    infobox = soup.find(class_='infobox vevent')\n",
    "    inforows = infobox.find_all(\"tr\")\n",
    "    for index, row in enumerate(inforows):\n",
    "        if index == 0:\n",
    "            movie_info['title'] = row.find('th').get_text(' ', strip=True)\n",
    "        elif index == 1:\n",
    "            continue # image\n",
    "        else:\n",
    "            content_key = row.find('th').get_text(' ', strip=True)\n",
    "            content_value = Get_Content_Value(row.find('td'))\n",
    "            movie_info[content_key] = content_value\n",
    "    \n",
    "    return movie_info\n",
    "    "
   ]
  },
  {
   "cell_type": "code",
   "execution_count": 5,
   "metadata": {},
   "outputs": [
    {
     "name": "stdout",
     "output_type": "stream",
     "text": [
      "[{'title': 'Academy Award Review of Walt Disney Cartoons', 'Production company': 'Walt Disney Productions', 'Release date': ['May 19, 1937 ( 1937-05-19 )'], 'Running time': '41 minutes (74 minutes 1966 release)', 'Country': 'United States', 'Language': 'English', 'Box office': '$45.472'}, {'title': 'Snow White and the Seven Dwarfs', 'Directed by': ['David Hand (supervising)', 'William Cottrell', 'Wilfred Jackson', 'Larry Morey', 'Perce Pearce', 'Ben Sharpsteen'], 'Produced by': 'Walt Disney', 'Written by': ['Ted Sears', 'Richard Creedon', 'Otto Englander', 'Dick Rickard', 'Earl Hurd', 'Merrill De Maris', 'Dorothy Ann Blank', 'Webb Smith'], 'Based on': 'Snow White by The Brothers Grimm', 'Starring': ['Adriana Caselotti', 'Lucille La Verne', 'Harry Stockwell', 'Roy Atwell', 'Pinto Colvig', 'Otis Harlan', 'Scotty Mattraw', 'Billy Gilbert', 'Eddie Collins', 'Moroni Olsen', 'Stuart Buchanan'], 'Music by': ['Frank Churchill', 'Paul Smith', 'Leigh Harline'], 'Production company': 'Walt Disney Productions', 'Distributed by': 'RKO Radio Pictures', 'Release date': ['December 21, 1937 ( 1937-12-21 ) ( Carthay Circle Theatre , Los Angeles , CA )', 'February 4, 1938 ( 1938-02-04 ) (United States)'], 'Running time': '83 minutes', 'Country': 'United States', 'Language': 'English', 'Budget': '$1.49 million [1]', 'Box office': '$418 million [2]'}, {'title': 'Pinocchio', 'Directed by': ['Ben Sharpsteen', 'Hamilton Luske', 'Bill Roberts', 'Norman Ferguson', 'Jack Kinney', 'Wilfred Jackson', 'T. Hee'], 'Produced by': 'Walt Disney', 'Story by': ['Ted Sears', 'Otto Englander', 'Webb Smith', 'William Cottrell', 'Joseph Sabo', 'Erdman Penner', 'Aurelius Battaglia'], 'Based on': 'The Adventures of Pinocchio by Carlo Collodi', 'Starring': ['Cliff Edwards', 'Dickie Jones', 'Christian Rub', 'Mel Blanc', 'Walter Catlett', 'Charles Judels', 'Evelyn Venable', 'Frankie Darro'], 'Music by': ['Leigh Harline', 'Paul J. Smith'], 'Production company': 'Walt Disney Productions', 'Distributed by': 'RKO Radio Pictures', 'Release date': ['February 7, 1940 ( 1940-02-07 ) ( Center Theatre ) [1]', 'February 23, 1940 ( 1940-02-23 ) (United States) [2]'], 'Running time': '88 minutes', 'Country': 'United States', 'Language': 'English', 'Budget': '$2.6 million [3]', 'Box office': '$164 million'}, {'title': 'Fantasia', 'Directed by': ['Samuel Armstrong', 'James Algar', 'Bill Roberts', 'Paul Satterfield', 'Ben Sharpsteen', 'David D. Hand', 'Hamilton Luske', 'Jim Handley', 'Ford Beebe', 'T. Hee', 'Norman Ferguson', 'Wilfred Jackson'], 'Produced by': ['Walt Disney', 'Ben Sharpsteen'], 'Story by': ['Joe Grant', 'Dick Huemer'], 'Starring': ['Leopold Stokowski', 'Deems Taylor'], 'Narrated by': 'Deems Taylor', 'Music by': 'See program', 'Cinematography': 'James Wong Howe', 'Production company': 'Walt Disney Productions', 'Distributed by': ['Walt Disney Productions', 'RKO Radio Pictures'], 'Release date': ['November 13, 1940 ( 1940-11-13 )'], 'Running time': '126 minutes [1]', 'Country': 'United States', 'Language': 'English', 'Budget': '$2.28 million [2] [3]', 'Box office': '$76.4–$83.3 million [4] [5]'}, {'title': 'The Reluctant Dragon', 'Directed by': 'Alfred Werker (live action) Hamilton Luske (animation) Jack Cutting , Ub Iwerks , Jack Kinney (sequence directors)', 'Produced by': 'Walt Disney', 'Written by': 'Live-action: Ted Sears Al Perkins Larry Clemmons Bill Cottrell Harry Clork Robert Benchley The Reluctant Dragon segment: Kenneth Grahame (original book) Erdman Penner T. Hee Baby Weems segment: Joe Grant Dick Huemer John Miller', 'Starring': 'Robert Benchley Frances Gifford Buddy Pepper Nana Bryant', 'Music by': 'Frank Churchill Larry Morey', 'Cinematography': 'Bert Giennon', 'Edited by': 'Paul Weatherwax', 'Production company': 'Walt Disney Productions', 'Distributed by': 'RKO Radio Pictures', 'Release date': ['June 20, 1941 ( 1941-06-20 ) [1]'], 'Running time': '74 minutes', 'Country': 'United States', 'Language': 'English', 'Budget': '$600,000 [2]', 'Box office': '$960,000 (worldwide rentals) [3]'}, {'title': 'Dumbo', 'Directed by': 'Supervising director: Ben Sharpsteen Sequence directors: Norman Ferguson Wilfred Jackson Bill Roberts Jack Kinney Samuel Armstrong', 'Produced by': 'Walt Disney', 'Story by': 'Otto Englander Joe Grant Dick Huemer', 'Based on': 'Dumbo, the Flying Elephant by Helen Aberson Harold Pearl', 'Starring': 'Edward Brophy Herman Bing Margaret Wright Sterling Holloway Verna Felton Cliff Edwards James Baskett Nick Stewart Hall Johnson Jim Carmichael', 'Narrated by': 'John McLeish', 'Music by': 'Frank Churchill Oliver Wallace', 'Production company': 'Walt Disney Productions', 'Distributed by': 'RKO Radio Pictures', 'Release date': ['October 23, 1941 ( 1941-10-23 ) (New York City) [1]', 'October 31, 1941 ( 1941-10-31 ) (U.S.)'], 'Running time': '64 minutes', 'Country': 'United States', 'Language': 'English', 'Budget': '$950,000 [2]', 'Box office': '$1.3 million (est. United States/Canada rentals, 1941) [3]'}, {'title': 'Bambi', 'Directed by': 'Supervising director David Hand Sequence directors James Algar Samuel Armstrong Graham Heid Bill Roberts Paul Satterfield Norman Wright', 'Produced by': 'Walt Disney', 'Story by': 'Story direction Perce Pearce Story adaptation Larry Morey Story development Vernon Stallings Melvin Shaw Carl Fallberg Chuck Couch Ralph Wright', 'Based on': 'Bambi, a Life in the Woods by Felix Salten', 'Starring': 'see below', 'Music by': 'Frank Churchill Edward H. Plumb', 'Production company': 'Walt Disney Productions', 'Distributed by': 'RKO Radio Pictures', 'Release date': ['August 9, 1942 ( 1942-08-09 ) (World Premiere-London)', 'August 13, 1942 ( 1942-08-13 ) (Premiere-New York City)', 'August 21, 1942 ( 1942-08-21 ) (U.S.) [1]'], 'Running time': '70 minutes', 'Country': 'United States', 'Language': 'English', 'Budget': '$858,000 [2]', 'Box office': '$267.4 million [3]'}, {'title': 'Saludos Amigos', 'Directed by': ['Norman Ferguson', 'Wilfred Jackson', 'Jack Kinney', 'Hamilton Luske', 'Bill Roberts'], 'Produced by': 'Walt Disney', 'Story by': ['Homer Brightman', 'William Cottrell', 'Richard Huemer', 'Joe Grant', 'Harold Reeves', 'Ted Sears', 'Webb Smith', 'Roy Williams', 'Ralph Wright'], 'Starring': ['Lee Blair', 'Mary Blair', 'Pinto Colvig', 'Walt Disney', 'Norman Ferguson', 'Frank Graham', 'Clarence Nash', 'José Oliveira', 'Frank Thomas'], 'Narrated by': 'Fred Shields', 'Music by': ['Paul Smith', 'Edward H. Plumb'], 'Production company': 'Walt Disney Productions', 'Distributed by': 'RKO Radio Pictures', 'Release date': ['August 24, 1942 ( 1942-08-24 ) (World Premiere-Rio de Janeiro)', 'February 6, 1943 ( 1943-02-06 ) (U.S. Premiere-Boston)', 'February 19, 1943 ( 1943-02-19 ) (U.S.) [1]'], 'Running time': '42 minutes', 'Country': 'United States', 'Language': ['English', 'Portuguese', 'Spanish'], 'Box office': '$1,135,000 (worldwide rentals) [2]'}, {'title': 'Victory Through Air Power', 'Directed by': 'Animated sequences: James Algar Clyde Geronimi Jack Kinney de Seversky scenes: H.C. Potter', 'Produced by': 'Walt Disney', 'Written by': 'Story direction: Perce Pearce Story adaptation: T. Hee Erdman Penner Bill Cottrell James Brodero George Stallings Jose Rodriguez', 'Based on': 'Victory Through Air Power by Maj. Alexander P. Seversky', 'Starring': 'Alexander de Seversky', 'Narrated by': 'Art Baker', 'Music by': 'Edward H. Plumb Paul J. Smith Oliver Wallace', 'Cinematography': 'Ray Rennahan', 'Edited by': 'Jack Dennis', 'Production company': 'Walt Disney Productions', 'Distributed by': 'United Artists', 'Release date': ['July 17, 1943 ( 1943-07-17 )'], 'Running time': '65 min.', 'Country': 'United States', 'Language': 'English', 'Budget': '$788,000', 'Box office': '$799,000'}, {'title': 'The Three Caballeros', 'Directed by': ['Norman Ferguson (supervising director)', 'Clyde Geronimi', 'Jack Kinney', 'Bill Roberts', 'Harold Young (sequence directors)'], 'Produced by': 'Walt Disney', 'Story by': ['Homer Brightmen', 'Ernest Terrazas', 'Ted Sears', 'Bill Peet', 'Ralph Wright', 'Elmer Plummer', 'Roy Williams', 'William Cottrell', 'Del Connell', 'James Bodrero'], 'Starring': ['Clarence Nash', 'José Oliveira', 'Joaquin Garay'], 'Music by': ['Edward H. Plumb', 'Paul J. Smith', 'Charles Wolcott'], 'Production company': 'Walt Disney Productions', 'Distributed by': 'RKO Radio Pictures', 'Release date': ['December 21, 1944 ( 1944-12-21 ) (Mexico City)', 'February 3, 1945 ( 1945-02-03 ) (US) [1]'], 'Running time': '71 minutes', 'Country': 'United States', 'Language': ['English', 'Spanish', 'Portuguese'], 'Box office': '$3,355,000 (worldwide rentals) [2]'}]\n"
     ]
    }
   ],
   "source": [
    "r = requests.get('https://en.wikipedia.org/wiki/List_of_Walt_Disney_Pictures_films')\n",
    "soup = bs(r.content)\n",
    "movies = soup.select('.wikitable.sortable i a')\n",
    "\n",
    "base_path = 'https://en.wikipedia.org'\n",
    "\n",
    "move_info_list = []\n",
    "\n",
    "for index, movie in enumerate(movies):\n",
    "    if index == 10:\n",
    "        break\n",
    "    try:\n",
    "        relative_path = movie['href']\n",
    "        title = movie['title']\n",
    "        url = base_path + relative_path\n",
    "        #print(url)\n",
    "        move_info_list.append(Get_Info_Box(url))\n",
    "    \n",
    "    except Exception as e:\n",
    "        print(e)\n",
    "\n",
    "print(move_info_list)"
   ]
  },
  {
   "cell_type": "code",
   "execution_count": null,
   "metadata": {},
   "outputs": [],
   "source": []
  }
 ],
 "metadata": {
  "kernelspec": {
   "display_name": "datascience",
   "language": "python",
   "name": "datascience"
  },
  "language_info": {
   "codemirror_mode": {
    "name": "ipython",
    "version": 3
   },
   "file_extension": ".py",
   "mimetype": "text/x-python",
   "name": "python",
   "nbconvert_exporter": "python",
   "pygments_lexer": "ipython3",
   "version": "3.8.6"
  }
 },
 "nbformat": 4,
 "nbformat_minor": 4
}
