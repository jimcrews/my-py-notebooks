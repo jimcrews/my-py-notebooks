{
 "cells": [
  {
   "cell_type": "code",
   "execution_count": 1,
   "metadata": {},
   "outputs": [],
   "source": [
    "#imports\n",
    "from requests.auth import HTTPBasicAuth\n",
    "import requests\n",
    "import pymongo\n",
    "from dotenv import load_dotenv\n",
    "import os"
   ]
  },
  {
   "cell_type": "code",
   "execution_count": 2,
   "metadata": {},
   "outputs": [],
   "source": [
    "# settings.py\n",
    "load_dotenv()\n",
    "clockify_api_key = os.getenv(\"CLOCKIFY_API_KEY\")\n",
    "mongo_conn_string = os.getenv(\"MONGO_CONN\")"
   ]
  },
  {
   "cell_type": "code",
   "execution_count": 3,
   "metadata": {},
   "outputs": [],
   "source": [
    "headers = {\"Accept\": \"application/json\", 'x-api-key': clockify_api_key}"
   ]
  },
  {
   "cell_type": "markdown",
   "metadata": {},
   "source": [
    "## Get Tags"
   ]
  },
  {
   "cell_type": "code",
   "execution_count": 4,
   "metadata": {},
   "outputs": [],
   "source": [
    "tags_url = \"https://api.clockify.me/api/v1/workspaces/5f25e65aadbc875dd9032dee/tags\"\n",
    "tags = requests.get(tags_url, headers=headers)"
   ]
  },
  {
   "cell_type": "code",
   "execution_count": 5,
   "metadata": {},
   "outputs": [],
   "source": [
    "tags = tags.json()"
   ]
  },
  {
   "cell_type": "code",
   "execution_count": 6,
   "metadata": {},
   "outputs": [],
   "source": [
    "for t in tags:\n",
    "    t['tag_id'] = t['id']\n",
    "    t['tag_name'] = t['name']\n",
    "    del t['id']\n",
    "    del t['name']\n",
    "    del t['workspaceId']\n",
    "    del t['archived']"
   ]
  },
  {
   "cell_type": "code",
   "execution_count": 7,
   "metadata": {},
   "outputs": [
    {
     "data": {
      "text/plain": [
       "{'tag_id': '5f39bcd7d62fa00f8cf356ec', 'tag_name': 'Data Science'}"
      ]
     },
     "execution_count": 7,
     "metadata": {},
     "output_type": "execute_result"
    }
   ],
   "source": [
    "tags[0]"
   ]
  },
  {
   "cell_type": "markdown",
   "metadata": {},
   "source": [
    "## Get Projects"
   ]
  },
  {
   "cell_type": "code",
   "execution_count": 8,
   "metadata": {},
   "outputs": [],
   "source": [
    "projects_url = \"https://api.clockify.me/api/v1/workspaces/5f25e65aadbc875dd9032dee/projects\"\n",
    "projects = requests.get(projects_url, headers=headers)"
   ]
  },
  {
   "cell_type": "code",
   "execution_count": 9,
   "metadata": {},
   "outputs": [],
   "source": [
    "projects = projects.json()"
   ]
  },
  {
   "cell_type": "code",
   "execution_count": 10,
   "metadata": {},
   "outputs": [],
   "source": [
    "for p in projects:\n",
    "    p['project_id'] = p['id']\n",
    "    p['project'] = p['name']\n",
    "    p['project_duration'] = p['duration']\n",
    "    del p['id']\n",
    "    del p['duration']\n",
    "    del p['name']\n",
    "    del p['hourlyRate']\n",
    "    del p['clientId']\n",
    "    del p['workspaceId']\n",
    "    del p['billable']\n",
    "    del p['memberships']\n",
    "    del p['color']\n",
    "    del p['estimate']\n",
    "    del p['archived']\n",
    "    del p['clientName']\n",
    "    del p['note']\n",
    "    del p['template']\n",
    "    del p['public']"
   ]
  },
  {
   "cell_type": "code",
   "execution_count": 11,
   "metadata": {},
   "outputs": [
    {
     "data": {
      "text/plain": [
       "{'project_id': '5f272b89e89e8809e381b2f7',\n",
       " 'project': 'Blog',\n",
       " 'project_duration': 'PT29H30M'}"
      ]
     },
     "execution_count": 11,
     "metadata": {},
     "output_type": "execute_result"
    }
   ],
   "source": [
    "projects[0]"
   ]
  },
  {
   "cell_type": "markdown",
   "metadata": {},
   "source": [
    "## Get Entries"
   ]
  },
  {
   "cell_type": "code",
   "execution_count": 12,
   "metadata": {},
   "outputs": [],
   "source": [
    "entries_url = \"https://api.clockify.me/api/v1/workspaces/5f25e65aadbc875dd9032dee/user/5f25e659adbc875dd9032ded/time-entries\"\n",
    "entries = requests.get(entries_url, headers=headers)"
   ]
  },
  {
   "cell_type": "code",
   "execution_count": 13,
   "metadata": {},
   "outputs": [],
   "source": [
    "entries = entries.json()"
   ]
  },
  {
   "cell_type": "code",
   "execution_count": 14,
   "metadata": {},
   "outputs": [],
   "source": [
    "for e in entries:\n",
    "    e['entry_id'] = e['id']\n",
    "    e['entry_start'] = e['timeInterval']['start']\n",
    "    e['entry_finish'] = e['timeInterval']['end']\n",
    "    e['entry_duration'] = e['timeInterval']['duration']\n",
    "    e['entry'] = e['description']\n",
    "    e['tags'] = []\n",
    "    del e['id']\n",
    "    del e['timeInterval']\n",
    "    del e['description']\n",
    "    del e['customFieldValues']\n",
    "    del e['userId']\n",
    "    del e['billable']\n",
    "    del e['taskId'] \n",
    "    del e['workspaceId']\n",
    "    del e['isLocked']"
   ]
  },
  {
   "cell_type": "code",
   "execution_count": 15,
   "metadata": {},
   "outputs": [],
   "source": [
    "for e in entries:\n",
    "    for entry_tag in e['tagIds']:\n",
    "        for t in tags:\n",
    "            if t['tag_id'] == entry_tag:\n",
    "                e['tags'].append(t['tag_name'])\n",
    "        "
   ]
  },
  {
   "cell_type": "code",
   "execution_count": 16,
   "metadata": {},
   "outputs": [],
   "source": [
    "for e in entries:\n",
    "    del e['tagIds']"
   ]
  },
  {
   "cell_type": "code",
   "execution_count": 17,
   "metadata": {},
   "outputs": [
    {
     "data": {
      "text/plain": [
       "{'projectId': '5f39f190803448349949e6df',\n",
       " 'entry_id': '5f56c3971c7fea640944fe79',\n",
       " 'entry_start': '2020-09-07T23:20:00Z',\n",
       " 'entry_finish': '2020-09-07T23:30:00Z',\n",
       " 'entry_duration': 'PT10M',\n",
       " 'entry': 'Meditation',\n",
       " 'tags': ['Meditation']}"
      ]
     },
     "execution_count": 17,
     "metadata": {},
     "output_type": "execute_result"
    }
   ],
   "source": [
    "entries[0]"
   ]
  },
  {
   "cell_type": "markdown",
   "metadata": {},
   "source": [
    "## Format Results"
   ]
  },
  {
   "cell_type": "code",
   "execution_count": 18,
   "metadata": {},
   "outputs": [
    {
     "name": "stdout",
     "output_type": "stream",
     "text": [
      "entry_id\n",
      "entry_duration\n",
      "entry\n",
      "tags\n",
      "project\n",
      "project_duration\n"
     ]
    }
   ],
   "source": [
    "#for entry in entries:\n",
    "#    entry[\"description\"]\n",
    "import pandas as pd\n",
    "\n",
    "# join entries and projects\n",
    "df_e1 = pd.DataFrame(entries).set_index('projectId')\n",
    "df_projects = pd.DataFrame(projects).set_index('project_id')\n",
    "df_entries = df_e1.merge(df_projects, left_index=True, right_index=True)\n",
    "\n",
    "\n",
    "df_entries.set_index(['entry_start','entry_finish'], inplace=True, drop=True)\n",
    "\n",
    "#df.T.to_dict()\n",
    "\n",
    "\n",
    "for col in df_entries.columns: \n",
    "    print(col) \n"
   ]
  },
  {
   "cell_type": "code",
   "execution_count": 19,
   "metadata": {},
   "outputs": [],
   "source": [
    "new_entries = df_entries['entry_id'].count()"
   ]
  },
  {
   "cell_type": "code",
   "execution_count": 20,
   "metadata": {},
   "outputs": [],
   "source": [
    "client = pymongo.MongoClient(mongo_conn_string)\n",
    "db = client['jim_blog']\n",
    "clockify = db[\"clockify\"]\n",
    "saved_entries = db.clockify.count_documents({})"
   ]
  },
  {
   "cell_type": "code",
   "execution_count": 21,
   "metadata": {},
   "outputs": [
    {
     "name": "stdout",
     "output_type": "stream",
     "text": [
      "nothing to do\n"
     ]
    }
   ],
   "source": [
    "if new_entries > saved_entries:\n",
    "    d_count = clockify.delete_many({})\n",
    "    print(d_count.deleted_count, \" clockify documents deleted.\")\n",
    "    \n",
    "    data_dict = df_entries.to_dict(\"records\")\n",
    "    clockify.insert_many(data_dict)\n",
    "    print(db.clockify.count_documents({}), \" clockify documents created\")\n",
    "\n",
    "else:\n",
    "    print('nothing to do')\n"
   ]
  },
  {
   "cell_type": "code",
   "execution_count": null,
   "metadata": {},
   "outputs": [],
   "source": []
  }
 ],
 "metadata": {
  "kernelspec": {
   "display_name": "Python [conda env:.conda-env_dataScience]",
   "language": "python",
   "name": "conda-env-.conda-env_dataScience-py"
  },
  "language_info": {
   "codemirror_mode": {
    "name": "ipython",
    "version": 3
   },
   "file_extension": ".py",
   "mimetype": "text/x-python",
   "name": "python",
   "nbconvert_exporter": "python",
   "pygments_lexer": "ipython3",
   "version": "3.8.3"
  }
 },
 "nbformat": 4,
 "nbformat_minor": 4
}
