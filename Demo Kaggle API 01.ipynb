{
 "cells": [
  {
   "cell_type": "markdown",
   "metadata": {},
   "source": [
    "## Kaggle API\n",
    "\n",
    "Official API for https://www.kaggle.com, accessible using a command line tool implemented in Python 3.\n",
    "\n",
    "https://github.com/Kaggle/kaggle-api\n",
    "\n",
    "This Demo is going to source the API Username and Key from the .env file "
   ]
  },
  {
   "cell_type": "code",
   "execution_count": null,
   "metadata": {},
   "outputs": [],
   "source": [
    "conda install python-dotenv kaggle"
   ]
  },
  {
   "cell_type": "code",
   "execution_count": null,
   "metadata": {},
   "outputs": [],
   "source": [
    "from dotenv import load_dotenv, find_dotenv"
   ]
  },
  {
   "cell_type": "markdown",
   "metadata": {},
   "source": [
    "### Create .env\n",
    "\n",
    "1. Create the .env file in your project folder\n",
    "2. update .gitignore to ignore this file\n",
    "3. update .env with Kaggle credentials -\n",
    "\n",
    "```\n",
    "KAGGLE_USERNAME=crewsj\n",
    "KAGGLE_KEY=xxx\n",
    "```"
   ]
  },
  {
   "cell_type": "code",
   "execution_count": null,
   "metadata": {},
   "outputs": [],
   "source": [
    "# find .env automatically\n",
    "dotenv_path = find_dotenv()\n",
    "\n",
    "# load up the entries as environment vars\n",
    "load_dotenv(dotenv_path)"
   ]
  },
  {
   "cell_type": "code",
   "execution_count": null,
   "metadata": {},
   "outputs": [],
   "source": [
    "!kaggle competitions list"
   ]
  },
  {
   "cell_type": "markdown",
   "metadata": {},
   "source": [
    "### More commands\n",
    "\n",
    "Download competition data using:\n",
    "\n",
    "```\n",
    "!kaggle competitions download -c titanic\n",
    "```\n",
    "\n",
    "Unzip and move data programatically:\n",
    "\n",
    "```\n",
    "import zipfile\n",
    "\n",
    "with zipfile.ZipFile(\"titanic.zip\",\"r\") as zip_ref:\n",
    "    zip_ref.extractall(\"../data/raw\")\n",
    "```\n",
    "\n"
   ]
  },
  {
   "cell_type": "code",
   "execution_count": null,
   "metadata": {},
   "outputs": [],
   "source": []
  }
 ],
 "metadata": {
  "kernelspec": {
   "display_name": "Python [conda env:.conda-env_dataScience]",
   "language": "python",
   "name": "conda-env-.conda-env_dataScience-py"
  },
  "language_info": {
   "codemirror_mode": {
    "name": "ipython",
    "version": 3
   },
   "file_extension": ".py",
   "mimetype": "text/x-python",
   "name": "python",
   "nbconvert_exporter": "python",
   "pygments_lexer": "ipython3",
   "version": "3.8.3"
  }
 },
 "nbformat": 4,
 "nbformat_minor": 4
}
