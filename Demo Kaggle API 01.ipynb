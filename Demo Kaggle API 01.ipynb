{
 "cells": [
  {
   "cell_type": "markdown",
   "metadata": {},
   "source": [
    "## Kaggle API\n",
    "\n",
    "Official API for https://www.kaggle.com, accessible using a command line tool implemented in Python 3.\n",
    "\n",
    "https://github.com/Kaggle/kaggle-api\n",
    "\n",
    "This Demo is going to source the API Username and Key from the .env file "
   ]
  },
  {
   "cell_type": "code",
   "execution_count": 1,
   "metadata": {},
   "outputs": [
    {
     "name": "stdout",
     "output_type": "stream",
     "text": [
      "Collecting package metadata (current_repodata.json): ...working... done\n",
      "Solving environment: ...working... done\n",
      "\n",
      "# All requested packages already installed.\n",
      "\n",
      "\n",
      "Note: you may need to restart the kernel to use updated packages.\n"
     ]
    }
   ],
   "source": [
    "conda install python-dotenv kaggle"
   ]
  },
  {
   "cell_type": "code",
   "execution_count": 2,
   "metadata": {},
   "outputs": [],
   "source": [
    "from dotenv import load_dotenv, find_dotenv"
   ]
  },
  {
   "cell_type": "markdown",
   "metadata": {},
   "source": [
    "### Create .env\n",
    "\n",
    "1. Create the .env file in your project folder\n",
    "2. update .gitignore to ignore this file\n",
    "3. update .env with Kaggle credentials -\n",
    "\n",
    "```\n",
    "KAGGLE_USERNAME=crewsj\n",
    "KAGGLE_KEY=xxx\n",
    "```"
   ]
  },
  {
   "cell_type": "code",
   "execution_count": 3,
   "metadata": {},
   "outputs": [
    {
     "data": {
      "text/plain": [
       "True"
      ]
     },
     "execution_count": 3,
     "metadata": {},
     "output_type": "execute_result"
    }
   ],
   "source": [
    "# find .env automatically\n",
    "dotenv_path = find_dotenv()\n",
    "\n",
    "# load up the entries as environment vars\n",
    "load_dotenv(dotenv_path)"
   ]
  },
  {
   "cell_type": "code",
   "execution_count": 4,
   "metadata": {},
   "outputs": [
    {
     "name": "stdout",
     "output_type": "stream",
     "text": [
      "ref                                            deadline             category            reward  teamCount  userHasEntered  \n",
      "---------------------------------------------  -------------------  ---------------  ---------  ---------  --------------  \n",
      "contradictory-my-dear-watson                   2030-07-01 23:59:00  Getting Started     Prizes        185           False  \n",
      "tpu-getting-started                            2030-06-03 23:59:00  Getting Started  Knowledge        359           False  \n",
      "digit-recognizer                               2030-01-01 00:00:00  Getting Started  Knowledge       2760           False  \n",
      "titanic                                        2030-01-01 00:00:00  Getting Started  Knowledge      20086            True  \n",
      "house-prices-advanced-regression-techniques    2030-01-01 00:00:00  Getting Started  Knowledge       5075           False  \n",
      "connectx                                       2030-01-01 00:00:00  Getting Started  Knowledge        777           False  \n",
      "nlp-getting-started                            2030-01-01 00:00:00  Getting Started  Knowledge       1509           False  \n",
      "competitive-data-science-predict-future-sales  2020-12-31 23:59:00  Playground           Kudos       8347           False  \n",
      "osic-pulmonary-fibrosis-progression            2020-10-06 23:59:00  Featured           $55,000       1065           False  \n",
      "landmark-recognition-2020                      2020-09-29 23:59:00  Research           $25,000        357           False  \n",
      "halite                                         2020-09-15 23:59:00  Featured              Swag       1038           False  \n",
      "birdsong-recognition                           2020-09-15 23:59:00  Research           $25,000        988           False  \n",
      "global-wheat-detection                         2020-08-19 01:59:00  Research           $15,000       2245           False  \n",
      "landmark-retrieval-2020                        2020-08-17 23:59:00  Research           $25,000        541           False  \n",
      "siim-isic-melanoma-classification              2020-08-17 23:59:00  Featured           $30,000       3314           False  \n",
      "open-images-object-detection-rvc-2020          2020-08-14 16:00:00  Playground       Knowledge         89           False  \n",
      "open-images-instance-segmentation-rvc-2020     2020-08-14 16:00:00  Playground       Knowledge         18           False  \n",
      "hashcode-photo-slideshow                       2020-07-27 23:59:00  Playground       Knowledge         89           False  \n",
      "prostate-cancer-grade-assessment               2020-07-22 23:59:00  Featured           $25,000       1010           False  \n",
      "alaska2-image-steganalysis                     2020-07-20 23:59:00  Research           $25,000       1095           False  \n"
     ]
    }
   ],
   "source": [
    "!kaggle competitions list"
   ]
  },
  {
   "cell_type": "markdown",
   "metadata": {},
   "source": [
    "### More commands\n",
    "\n",
    "Download competition data using:\n",
    "\n",
    "```\n",
    "!kaggle competitions download -c titanic\n",
    "```\n",
    "\n",
    "Unzip and move data programatically:\n",
    "\n",
    "```\n",
    "import zipfile\n",
    "\n",
    "with zipfile.ZipFile(\"titanic.zip\",\"r\") as zip_ref:\n",
    "    zip_ref.extractall(\"../data/raw\")\n",
    "```\n",
    "\n"
   ]
  },
  {
   "cell_type": "code",
   "execution_count": null,
   "metadata": {},
   "outputs": [],
   "source": []
  }
 ],
 "metadata": {
  "kernelspec": {
   "display_name": "Python [conda env:.conda-env_dataScience]",
   "language": "python",
   "name": "conda-env-.conda-env_dataScience-py"
  },
  "language_info": {
   "codemirror_mode": {
    "name": "ipython",
    "version": 3
   },
   "file_extension": ".py",
   "mimetype": "text/x-python",
   "name": "python",
   "nbconvert_exporter": "python",
   "pygments_lexer": "ipython3",
   "version": "3.8.3"
  }
 },
 "nbformat": 4,
 "nbformat_minor": 4
}
