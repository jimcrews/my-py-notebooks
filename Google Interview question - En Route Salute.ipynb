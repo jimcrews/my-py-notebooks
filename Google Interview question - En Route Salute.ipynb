{
 "cells": [
  {
   "cell_type": "markdown",
   "metadata": {},
   "source": [
    "# En Route Salute\n",
    "\n",
    "Every time the Commander's employees pass each other in the hall, each of them must stop and salute each other - one at a time - before resuming their path. \n",
    "\n",
    "Write a program that counts how many salutes are exchanged during a typical walk along a hallway. The hall is represented by a string. For example:\n",
    "\"--->-><-><-->-\"\n",
    "\n",
    "Each hallway string will contain three different types of characters: '>', an employee walking to the right; '<', an employee walking to the left; and '-', an empty space. Whenever two employees cross, each of them salutes the other. They then continue walking until they reach the end, finally leaving the hallway. In the above example, they salute 10 times.\n",
    "\n",
    "Write a function which takes a string representing employees walking along a hallway and returns the number of times the employees will salute.\n",
    "\n",
    "\n",
    "## Test Cases\n",
    "\n",
    "Your code should pass the following test cases.\n",
    "Note that it may also be run against hidden test cases not shown here.\n",
    "\n",
    "```\n",
    "\">----<\" = 2\n",
    "\"<<>><\" = 4\n",
    "\"--->-><-><-->-\" = 10\n",
    "```\n",
    "\n",
    "<br />"
   ]
  },
  {
   "cell_type": "code",
   "execution_count": 3,
   "metadata": {},
   "outputs": [
    {
     "name": "stdout",
     "output_type": "stream",
     "text": [
      "4\n"
     ]
    }
   ],
   "source": [
    "test = \"<<>><\"\n",
    "\n",
    "# first remove unwanted end arrows going right\n",
    "count = 0\n",
    "for i in range(len(test)-1, 0, -1): \n",
    "    if test[i] == \">\" or test[i] == \"-\":\n",
    "        count += 1\n",
    "    if test[i] == \"<\":\n",
    "        break\n",
    "\n",
    "if count > 0:\n",
    "    test = test[:-count]\n",
    "        \n",
    "\n",
    "salute_count = 0\n",
    "for i in range(0, len(test)):\n",
    "    if test[i] == \">\":\n",
    "        for j in range(i, len(test)):\n",
    "            if test[j] == '<':\n",
    "                salute_count += 2\n",
    "    \n",
    "\n",
    "print(salute_count)\n",
    "\n"
   ]
  }
 ],
 "metadata": {
  "kernelspec": {
   "display_name": "Python [conda env:.conda-env_dataScience]",
   "language": "python",
   "name": "conda-env-.conda-env_dataScience-py"
  },
  "language_info": {
   "codemirror_mode": {
    "name": "ipython",
    "version": 3
   },
   "file_extension": ".py",
   "mimetype": "text/x-python",
   "name": "python",
   "nbconvert_exporter": "python",
   "pygments_lexer": "ipython3",
   "version": "3.8.3"
  }
 },
 "nbformat": 4,
 "nbformat_minor": 4
}
