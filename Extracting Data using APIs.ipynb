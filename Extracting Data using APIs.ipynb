{
 "cells": [
  {
   "cell_type": "markdown",
   "metadata": {},
   "source": [
    "# Extracting Data using APIs\n",
    "\n",
    "## Hacker News API"
   ]
  },
  {
   "cell_type": "code",
   "execution_count": 1,
   "metadata": {},
   "outputs": [],
   "source": [
    "import requests"
   ]
  },
  {
   "cell_type": "markdown",
   "metadata": {},
   "source": [
    "https://github.com/HackerNews/API\n",
    "\n",
    "Up to 500 top and new stories are at /v0/topstories (also contains jobs) and /v0/newstories. Best stories are at /v0/beststories."
   ]
  },
  {
   "cell_type": "code",
   "execution_count": 44,
   "metadata": {},
   "outputs": [
    {
     "data": {
      "text/plain": [
       "200"
      ]
     },
     "execution_count": 44,
     "metadata": {},
     "output_type": "execute_result"
    }
   ],
   "source": [
    "# url\n",
    "topStoriesUrl = 'https://hacker-news.firebaseio.com/v0/topstories.json?print=pretty'\n",
    "topStories = requests.get(topStoriesUrl)\n",
    "topStories.status_code"
   ]
  },
  {
   "cell_type": "markdown",
   "metadata": {},
   "source": [
    "### List all top Stories"
   ]
  },
  {
   "cell_type": "code",
   "execution_count": 48,
   "metadata": {},
   "outputs": [
    {
     "data": {
      "text/plain": [
       "[24232801,\n",
       " 24233859,\n",
       " 24229269,\n",
       " 24229864,\n",
       " 24233229,\n",
       " 24233544,\n",
       " 24231857,\n",
       " 24208923,\n",
       " 24221654,\n",
       " 24213682]"
      ]
     },
     "execution_count": 48,
     "metadata": {},
     "output_type": "execute_result"
    }
   ],
   "source": [
    "# only show 10 here\n",
    "topStories.json()[:10]"
   ]
  },
  {
   "cell_type": "markdown",
   "metadata": {},
   "source": [
    "### Get the first top Story"
   ]
  },
  {
   "cell_type": "code",
   "execution_count": 45,
   "metadata": {},
   "outputs": [
    {
     "data": {
      "text/plain": [
       "{'by': 'devnonymous',\n",
       " 'descendants': 33,\n",
       " 'id': 24232801,\n",
       " 'kids': [24234062,\n",
       "  24233237,\n",
       "  24233728,\n",
       "  24233109,\n",
       "  24233105,\n",
       "  24233026,\n",
       "  24233727,\n",
       "  24233977,\n",
       "  24233019,\n",
       "  24233601,\n",
       "  24233284,\n",
       "  24233467,\n",
       "  24233197],\n",
       " 'score': 158,\n",
       " 'time': 1597994406,\n",
       " 'title': 'ReMarkable MicroSD',\n",
       " 'type': 'story',\n",
       " 'url': 'http://www.davisr.me/projects/remarkable-microsd/'}"
      ]
     },
     "execution_count": 45,
     "metadata": {},
     "output_type": "execute_result"
    }
   ],
   "source": [
    "topStoryId = (topStories.json()[0])\n",
    "topStoryUrl = 'https://hacker-news.firebaseio.com/v0/item/' + str(topStoryId) + '.json?print=pretty'\n",
    "topStory = requests.get(topStoryUrl)\n",
    "topStory.json()"
   ]
  },
  {
   "cell_type": "markdown",
   "metadata": {},
   "source": [
    "### Get the first Comment"
   ]
  },
  {
   "cell_type": "code",
   "execution_count": 46,
   "metadata": {},
   "outputs": [
    {
     "data": {
      "text/plain": [
       "{'by': 'vinniejames',\n",
       " 'id': 24234062,\n",
       " 'parent': 24232801,\n",
       " 'text': 'Are folks generally happy with the tablet? I just pre-ordered the new one!',\n",
       " 'time': 1598010628,\n",
       " 'type': 'comment'}"
      ]
     },
     "execution_count": 46,
     "metadata": {},
     "output_type": "execute_result"
    }
   ],
   "source": [
    "firstCommentId = (topStory.json()['kids'][0])\n",
    "firstCommentUrl = 'https://hacker-news.firebaseio.com/v0/item/' + str(firstCommentId) + '.json?print=pretty'\n",
    "firstComment = requests.get(firstCommentUrl)\n",
    "firstComment.json()"
   ]
  },
  {
   "cell_type": "code",
   "execution_count": null,
   "metadata": {},
   "outputs": [],
   "source": []
  }
 ],
 "metadata": {
  "kernelspec": {
   "display_name": "Python [conda env:root] *",
   "language": "python",
   "name": "conda-root-py"
  },
  "language_info": {
   "codemirror_mode": {
    "name": "ipython",
    "version": 3
   },
   "file_extension": ".py",
   "mimetype": "text/x-python",
   "name": "python",
   "nbconvert_exporter": "python",
   "pygments_lexer": "ipython3",
   "version": "3.8.3"
  }
 },
 "nbformat": 4,
 "nbformat_minor": 4
}
