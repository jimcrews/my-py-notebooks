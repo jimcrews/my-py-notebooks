{
 "cells": [
  {
   "cell_type": "markdown",
   "metadata": {},
   "source": [
    "# SQLite Database"
   ]
  },
  {
   "cell_type": "markdown",
   "metadata": {},
   "source": [
    "## Why SQLite ?\n",
    "\n",
    "SQLite is a server-less database and is self-contained.. Apposed to MySQL which requires a server to run on.\n",
    "\n",
    "SQLite supports these datatypes: Blob, Integer, Null, Text, Real.. MySQL supports many more..\n",
    "\n",
    "The SQLite library is about 250 KB in size, while the MySQL server is about 600 MB.\n",
    "\n",
    "SQLite does not have any specific user management functionality and hence is not suitable for multiple user access. MySQL has a well-constructed user management system which can handle multiple users and grant various levels of permission."
   ]
  },
  {
   "cell_type": "markdown",
   "metadata": {},
   "source": [
    "### Import Package"
   ]
  },
  {
   "cell_type": "code",
   "execution_count": 1,
   "metadata": {},
   "outputs": [],
   "source": [
    "# import sqlite3 package\n",
    "import sqlite3"
   ]
  },
  {
   "cell_type": "markdown",
   "metadata": {},
   "source": [
    "### connect to database"
   ]
  },
  {
   "cell_type": "code",
   "execution_count": 2,
   "metadata": {},
   "outputs": [],
   "source": [
    "# create a connection to a database : create the database if not available\n",
    "connection = sqlite3.connect(\"classroomDB.db\")\n",
    "connection.close()"
   ]
  },
  {
   "cell_type": "code",
   "execution_count": 8,
   "metadata": {},
   "outputs": [],
   "source": [
    "# drop table if exists..\n",
    "conn = sqlite3.connect(\"classroomDB.db\")\n",
    "c = conn.cursor()\n",
    "\n",
    "dropTableStatement = \"DROP TABLE IF EXISTS classroom\"\n",
    "\n",
    "c.execute(dropTableStatement)\n",
    "\n",
    "conn.close()"
   ]
  },
  {
   "cell_type": "markdown",
   "metadata": {},
   "source": [
    "### create table"
   ]
  },
  {
   "cell_type": "code",
   "execution_count": 4,
   "metadata": {},
   "outputs": [],
   "source": [
    "# open connection\n",
    "connection = sqlite3.connect(\"classroomDB.db\")\n",
    "# open cursor\n",
    "cursor = connection.cursor()\n",
    "# query for creating table\n",
    "create_table = \"\"\"\n",
    "\n",
    "CREATE TABLE classroom (\n",
    "    student_id INTEGER PRIMARY KEY,\n",
    "    name VARCHAR(20),\n",
    "    gender CHAR(1),\n",
    "    physics_marks INTEGER,\n",
    "    chemistry_marks INTEGER,\n",
    "    mathematics_marks INTEGER\n",
    ");\n",
    "\n",
    "\"\"\"\n",
    "\n",
    "# execute query\n",
    "cursor.execute(create_table)\n",
    "# commit changes\n",
    "connection.commit()\n",
    "# close connection\n",
    "connection.close()"
   ]
  },
  {
   "cell_type": "markdown",
   "metadata": {},
   "source": [
    "### insert data"
   ]
  },
  {
   "cell_type": "code",
   "execution_count": 5,
   "metadata": {},
   "outputs": [],
   "source": [
    "# sample data\n",
    "data = [\n",
    "    (1, \"Jim\", \"M\", 70, 84, 92),\n",
    "    (2, \"Heather\", \"F\", 87, 69, 93),\n",
    "    (3, \"Nick\", \"M\", 65, 83, 90),\n",
    "    (4, \"Beth\", \"F\", 83, 76, 89),\n",
    "]\n",
    "\n",
    "# open conn\n",
    "conn = sqlite3.connect(\"classroomDB.db\")\n",
    "# open cursor\n",
    "cur = conn.cursor()\n",
    "cur.executemany('INSERT INTO classroom VALUES (?,?,?,?,?,?)', data)\n",
    "\n",
    "# commit and close\n",
    "conn.commit()\n",
    "conn.close()"
   ]
  },
  {
   "cell_type": "markdown",
   "metadata": {},
   "source": [
    "### Fetch the list of tables in a database"
   ]
  },
  {
   "cell_type": "code",
   "execution_count": 6,
   "metadata": {},
   "outputs": [
    {
     "name": "stdout",
     "output_type": "stream",
     "text": [
      "[('classroom',)]\n"
     ]
    }
   ],
   "source": [
    "con = sqlite3.connect('classroomDB.db')\n",
    "cursor = con.cursor()\n",
    "\n",
    "cursor.execute(\"SELECT name FROM sqlite_master WHERE type='table';\")\n",
    "\n",
    "print(cursor.fetchall())\n",
    "\n",
    "con.close()"
   ]
  },
  {
   "cell_type": "markdown",
   "metadata": {},
   "source": [
    "### extract data"
   ]
  },
  {
   "cell_type": "code",
   "execution_count": 7,
   "metadata": {},
   "outputs": [
    {
     "name": "stdout",
     "output_type": "stream",
     "text": [
      "(1, 'Jim', 'M', 70, 84, 92)\n",
      "(2, 'Heather', 'F', 87, 69, 93)\n",
      "(3, 'Nick', 'M', 65, 83, 90)\n",
      "(4, 'Beth', 'F', 83, 76, 89)\n"
     ]
    }
   ],
   "source": [
    "# open connection\n",
    "conn = sqlite3.connect(\"classroomDB.db\")\n",
    "# open cursor\n",
    "cur = conn.cursor()\n",
    "\n",
    "# query\n",
    "query = \"SELECT * FROM classroom\"\n",
    "\n",
    "# execute query\n",
    "cur.execute(query)\n",
    "\n",
    "# fetch results\n",
    "result = cur.fetchall()\n",
    "\n",
    "# print results\n",
    "for row in result:\n",
    "    print(row)\n",
    "\n",
    "# close connection\n",
    "conn.close()"
   ]
  },
  {
   "cell_type": "code",
   "execution_count": null,
   "metadata": {},
   "outputs": [],
   "source": []
  }
 ],
 "metadata": {
  "kernelspec": {
   "display_name": "Python [conda env:root] *",
   "language": "python",
   "name": "conda-root-py"
  },
  "language_info": {
   "codemirror_mode": {
    "name": "ipython",
    "version": 3
   },
   "file_extension": ".py",
   "mimetype": "text/x-python",
   "name": "python",
   "nbconvert_exporter": "python",
   "pygments_lexer": "ipython3",
   "version": "3.8.3"
  }
 },
 "nbformat": 4,
 "nbformat_minor": 4
}
